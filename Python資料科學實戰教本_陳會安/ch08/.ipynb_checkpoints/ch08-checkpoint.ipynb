{
 "cells": [
  {
   "cell_type": "code",
   "execution_count": 46,
   "id": "3477cee2-f345-4283-a138-3ec32bdd1bee",
   "metadata": {},
   "outputs": [
    {
     "name": "stdout",
     "output_type": "stream",
     "text": [
      "0    12\n",
      "1    29\n",
      "2    72\n",
      "3     4\n",
      "4     8\n",
      "5    10\n",
      "dtype: int64\n"
     ]
    }
   ],
   "source": [
    "# %load ch8-1-2.py\n",
    "import pandas as pd\n",
    "\n",
    "s = pd.Series([12, 29, 72, 4, 8, 10])\n",
    "print(s)"
   ]
  },
  {
   "cell_type": "code",
   "execution_count": 47,
   "id": "c2eeb0b5-4434-4e5e-a532-1c51205d67d5",
   "metadata": {},
   "outputs": [
    {
     "name": "stdout",
     "output_type": "stream",
     "text": [
      "蘋果    15\n",
      "橘子    33\n",
      "梨子    45\n",
      "櫻桃    55\n",
      "dtype: int64\n",
      "---------------------------\n",
      "Index(['蘋果', '橘子', '梨子', '櫻桃'], dtype='object')\n",
      "---------------------------\n",
      "[15 33 45 55]\n"
     ]
    }
   ],
   "source": [
    "# %load ch8-1-2a.py\n",
    "import pandas as pd\n",
    "\n",
    "fruits = [\"蘋果\", \"橘子\", \"梨子\", \"櫻桃\"]\n",
    "quantities = [15, 33, 45, 55]\n",
    "s = pd.Series(quantities, index=fruits)\n",
    "print(s)\n",
    "print(\"---------------------------\")\n",
    "print(s.index)\n",
    "print(\"---------------------------\")\n",
    "print(s.values)"
   ]
  },
  {
   "cell_type": "code",
   "execution_count": 48,
   "id": "a02f4cdc-9fe8-4941-a206-1d80bb90cacb",
   "metadata": {},
   "outputs": [
    {
     "name": "stdout",
     "output_type": "stream",
     "text": [
      "蘋果    26\n",
      "橘子    49\n",
      "梨子    66\n",
      "櫻桃    87\n",
      "dtype: int64\n",
      "---------------------------\n",
      "總計= 228\n"
     ]
    }
   ],
   "source": [
    "# %load ch8-1-2b.py\n",
    "import pandas as pd\n",
    "\n",
    "fruits = [\"蘋果\", \"橘子\", \"梨子\", \"櫻桃\"]\n",
    "quantities = [15, 33, 45, 55]\n",
    "s = pd.Series(quantities, index=fruits)\n",
    "p = pd.Series([11, 16, 21, 32], index=fruits)\n",
    "print(s + p)\n",
    "print(\"---------------------------\")\n",
    "print(\"總計=\", sum(s + p))"
   ]
  },
  {
   "cell_type": "code",
   "execution_count": 49,
   "id": "2b09e068-adc4-4644-b1c9-671daa3f8cb8",
   "metadata": {},
   "outputs": [
    {
     "name": "stdout",
     "output_type": "stream",
     "text": [
      "橘子= 33\n",
      "---------------------------\n",
      "橘子    33\n",
      "梨子    45\n",
      "櫻桃    55\n",
      "dtype: int64\n",
      "---------------------------\n",
      "蘋果     51\n",
      "橘子    105\n",
      "梨子    141\n",
      "櫻桃    171\n",
      "dtype: int64\n",
      "---------------------------\n",
      "蘋果    0.650288\n",
      "橘子    0.999912\n",
      "梨子    0.850904\n",
      "櫻桃   -0.999755\n",
      "dtype: float64\n"
     ]
    }
   ],
   "source": [
    "# %load ch8-1-2c.py\n",
    "import numpy as np\n",
    "import pandas as pd\n",
    "\n",
    "fruits = [\"蘋果\", \"橘子\", \"梨子\", \"櫻桃\"]\n",
    "s = pd.Series([15, 33, 45, 55], index=fruits)\n",
    "print(\"橘子=\", s[\"橘子\"])\n",
    "print(\"---------------------------\")\n",
    "print(s[[\"橘子\", \"梨子\", \"櫻桃\"]])\n",
    "print(\"---------------------------\")\n",
    "print((s+2)*3)\n",
    "print(\"---------------------------\")\n",
    "print(s.apply(np.sin))"
   ]
  },
  {
   "cell_type": "code",
   "execution_count": 50,
   "id": "b671406e-7623-4788-abd0-a14ecdf01293",
   "metadata": {},
   "outputs": [
    {
     "name": "stdout",
     "output_type": "stream",
     "text": [
      "   name  population city\n",
      "0   中正區      159598  台北市\n",
      "1   板橋區      551452  新北市\n",
      "2   桃園區      441287  桃園市\n",
      "3   北屯區      275207  台中市\n",
      "4   安南區      192327  台南市\n",
      "5   三民區      343203  高雄市\n",
      "6   大安區      309835  台北市\n",
      "7   永和區      222531  新北市\n",
      "8   八德區      198473  桃園市\n",
      "9   前鎮區      189623  高雄市\n",
      "10  鳳山區      359125  高雄市\n",
      "11  信義區      225561  台北市\n",
      "12  新店區      302070  新北市\n"
     ]
    }
   ],
   "source": [
    "# %load ch8-2-1.py\n",
    "import pandas as pd\n",
    "\n",
    "dists = {\"name\": [\"中正區\", \"板橋區\", \"桃園區\", \"北屯區\",\n",
    "                  \"安南區\", \"三民區\", \"大安區\", \"永和區\",\n",
    "                  \"八德區\", \"前鎮區\", \"鳳山區\",\n",
    "                  \"信義區\", \"新店區\"],\n",
    "         \"population\": [159598, 551452, 441287, 275207,\n",
    "                        192327, 343203, 309835, 222531,\n",
    "                        198473, 189623, 359125,\n",
    "                        225561, 302070],\n",
    "         \"city\": [\"台北市\", \"新北市\", \"桃園市\", \"台中市\",\n",
    "                  \"台南市\", \"高雄市\", \"台北市\", \"新北市\",\n",
    "                  \"桃園市\", \"高雄市\", \"高雄市\",\n",
    "                  \"台北市\", \"新北市\"]}\n",
    "df = pd.DataFrame(dists)\n",
    "print(df)\n",
    "df.to_html(\"ch8-2-1.html\")"
   ]
  },
  {
   "cell_type": "code",
   "execution_count": 51,
   "id": "bba3bad6-8d9f-4aa4-ac50-8e149e151f28",
   "metadata": {},
   "outputs": [
    {
     "name": "stdout",
     "output_type": "stream",
     "text": [
      "           name  population city\n",
      "first       中正區      159598  台北市\n",
      "second      板橋區      551452  新北市\n",
      "third       桃園區      441287  桃園市\n",
      "fourth      北屯區      275207  台中市\n",
      "fifth       安南區      192327  台南市\n",
      "sixth       三民區      343203  高雄市\n",
      "seventh     大安區      309835  台北市\n",
      "eigth       永和區      222531  新北市\n",
      "ninth       八德區      198473  桃園市\n",
      "tenth       前鎮區      189623  高雄市\n",
      "eleventh    鳳山區      359125  高雄市\n",
      "twelvth     信義區      225561  台北市\n",
      "thirteenth  新店區      302070  新北市\n",
      "---------------------------\n",
      "           name  population city\n",
      "first       中正區      159598  台北市\n",
      "second      板橋區      551452  新北市\n",
      "third       桃園區      441287  桃園市\n",
      "fourth      北屯區      275207  台中市\n",
      "fifth       安南區      192327  台南市\n",
      "sixth       三民區      343203  高雄市\n",
      "seventh     大安區      309835  台北市\n",
      "eigth       永和區      222531  新北市\n",
      "ninth       八德區      198473  桃園市\n",
      "tenth       前鎮區      189623  高雄市\n",
      "eleventh    鳳山區      359125  高雄市\n",
      "twelvth     信義區      225561  台北市\n",
      "thirteenth  新店區      302070  新北市\n"
     ]
    }
   ],
   "source": [
    "# %load ch8-2-1a.py\n",
    "import pandas as pd\n",
    "\n",
    "dists = {\"name\": [\"中正區\", \"板橋區\", \"桃園區\", \"北屯區\",\n",
    "                  \"安南區\", \"三民區\", \"大安區\", \"永和區\",\n",
    "                  \"八德區\", \"前鎮區\", \"鳳山區\",\n",
    "                  \"信義區\", \"新店區\"],\n",
    "         \"population\": [159598, 551452, 441287, 275207,\n",
    "                        192327, 343203, 309835, 222531,\n",
    "                        198473, 189623, 359125,\n",
    "                        225561, 302070],\n",
    "         \"city\": [\"台北市\", \"新北市\", \"桃園市\", \"台中市\",\n",
    "                  \"台南市\", \"高雄市\", \"台北市\", \"新北市\",\n",
    "                  \"桃園市\", \"高雄市\", \"高雄市\",\n",
    "                  \"台北市\", \"新北市\"]}\n",
    "\n",
    "ordinals = [\"first\", \"second\", \"third\", \"fourth\", \"fifth\",\n",
    "            \"sixth\", \"seventh\", \"eigth\", \"ninth\", \"tenth\",\n",
    "            \"eleventh\", \"twelvth\", \"thirteenth\"]\n",
    "df = pd.DataFrame(dists, index=ordinals)\n",
    "print(df)\n",
    "df.to_html(\"ch8-2-1a.html\")\n",
    "print(\"---------------------------\")\n",
    "df2 = pd.DataFrame(dists)\n",
    "df2.index = ordinals\n",
    "print(df2)"
   ]
  },
  {
   "cell_type": "code",
   "execution_count": 52,
   "id": "f0d50545-96ec-4338-b558-3a0b4dfa4b25",
   "metadata": {},
   "outputs": [
    {
     "name": "stdout",
     "output_type": "stream",
     "text": [
      "           name city  population\n",
      "first       中正區  台北市      159598\n",
      "second      板橋區  新北市      551452\n",
      "third       桃園區  桃園市      441287\n",
      "fourth      北屯區  台中市      275207\n",
      "fifth       安南區  台南市      192327\n",
      "sixth       三民區  高雄市      343203\n",
      "seventh     大安區  台北市      309835\n",
      "eigth       永和區  新北市      222531\n",
      "ninth       八德區  桃園市      198473\n",
      "tenth       前鎮區  高雄市      189623\n",
      "eleventh    鳳山區  高雄市      359125\n",
      "twelvth     信義區  台北市      225561\n",
      "thirteenth  新店區  新北市      302070\n",
      "---------------------------\n",
      "           name    city population\n",
      "first       中正區  159598        台北市\n",
      "second      板橋區  551452        新北市\n",
      "third       桃園區  441287        桃園市\n",
      "fourth      北屯區  275207        台中市\n",
      "fifth       安南區  192327        台南市\n",
      "sixth       三民區  343203        高雄市\n",
      "seventh     大安區  309835        台北市\n",
      "eigth       永和區  222531        新北市\n",
      "ninth       八德區  198473        桃園市\n",
      "tenth       前鎮區  189623        高雄市\n",
      "eleventh    鳳山區  359125        高雄市\n",
      "twelvth     信義區  225561        台北市\n",
      "thirteenth  新店區  302070        新北市\n"
     ]
    }
   ],
   "source": [
    "# %load ch8-2-1b.py\n",
    "import pandas as pd\n",
    "\n",
    "dists = {\"name\": [\"中正區\", \"板橋區\", \"桃園區\", \"北屯區\",\n",
    "                  \"安南區\", \"三民區\", \"大安區\", \"永和區\",\n",
    "                  \"八德區\", \"前鎮區\", \"鳳山區\",\n",
    "                  \"信義區\", \"新店區\"],\n",
    "         \"population\": [159598, 551452, 441287, 275207,\n",
    "                        192327, 343203, 309835, 222531,\n",
    "                        198473, 189623, 359125,\n",
    "                        225561, 302070],\n",
    "         \"city\": [\"台北市\", \"新北市\", \"桃園市\", \"台中市\",\n",
    "                  \"台南市\", \"高雄市\", \"台北市\", \"新北市\",\n",
    "                  \"桃園市\", \"高雄市\", \"高雄市\",\n",
    "                  \"台北市\", \"新北市\"]}\n",
    "\n",
    "ordinals = [\"first\", \"second\", \"third\", \"fourth\", \"fifth\",\n",
    "            \"sixth\", \"seventh\", \"eigth\", \"ninth\", \"tenth\",\n",
    "            \"eleventh\", \"twelvth\", \"thirteenth\"]\n",
    "df = pd.DataFrame(dists,\n",
    "                  columns=[\"name\", \"city\", \"population\"],\n",
    "                  index=ordinals)\n",
    "print(df)\n",
    "df.to_html(\"ch8-2-1b.html\")\n",
    "print(\"---------------------------\")\n",
    "df2 = pd.DataFrame(dists, index=ordinals)\n",
    "df2.columns = [\"name\", \"city\", \"population\"]\n",
    "print(df2)"
   ]
  },
  {
   "cell_type": "code",
   "execution_count": 53,
   "id": "b0df6e71-71b9-4eca-b9c0-45f4d9ac1f8d",
   "metadata": {},
   "outputs": [
    {
     "name": "stdout",
     "output_type": "stream",
     "text": [
      "    name  population\n",
      "台北市  中正區      159598\n",
      "新北市  板橋區      551452\n",
      "桃園市  桃園區      441287\n",
      "台中市  北屯區      275207\n",
      "台南市  安南區      192327\n",
      "高雄市  三民區      343203\n",
      "台北市  大安區      309835\n",
      "新北市  永和區      222531\n",
      "桃園市  八德區      198473\n",
      "高雄市  前鎮區      189623\n",
      "高雄市  鳳山區      359125\n",
      "台北市  信義區      225561\n",
      "新北市  新店區      302070\n"
     ]
    }
   ],
   "source": [
    "# %load ch8-2-1c.py\n",
    "import pandas as pd\n",
    "\n",
    "dists = {\"name\": [\"中正區\", \"板橋區\", \"桃園區\", \"北屯區\",\n",
    "                  \"安南區\", \"三民區\", \"大安區\", \"永和區\",\n",
    "                  \"八德區\", \"前鎮區\", \"鳳山區\",\n",
    "                  \"信義區\", \"新店區\"],\n",
    "         \"population\": [159598, 551452, 441287, 275207,\n",
    "                        192327, 343203, 309835, 222531,\n",
    "                        198473, 189623, 359125,\n",
    "                        225561, 302070],\n",
    "         \"city\": [\"台北市\", \"新北市\", \"桃園市\", \"台中市\",\n",
    "                  \"台南市\", \"高雄市\", \"台北市\", \"新北市\",\n",
    "                  \"桃園市\", \"高雄市\", \"高雄市\",\n",
    "                  \"台北市\", \"新北市\"]}\n",
    "\n",
    "df = pd.DataFrame(dists,\n",
    "                  columns=[\"name\", \"population\"],\n",
    "                  index=dists[\"city\"])\n",
    "print(df)\n",
    "df.to_html(\"ch8-2-1c.html\")"
   ]
  },
  {
   "cell_type": "code",
   "execution_count": 54,
   "id": "befd52b9-6b8e-46d2-bec9-f90ce6cf57e4",
   "metadata": {},
   "outputs": [
    {
     "name": "stdout",
     "output_type": "stream",
     "text": [
      "               台北市     新北市     桃園市     台中市     台南市     高雄市     台北市     新北市  \\\n",
      "name           中正區     板橋區     桃園區     北屯區     安南區     三民區     大安區     永和區   \n",
      "population  159598  551452  441287  275207  192327  343203  309835  222531   \n",
      "\n",
      "               桃園市     高雄市     高雄市     台北市     新北市  \n",
      "name           八德區     前鎮區     鳳山區     信義區     新店區  \n",
      "population  198473  189623  359125  225561  302070  \n"
     ]
    }
   ],
   "source": [
    "# %load ch8-2-1d.py\n",
    "import pandas as pd\n",
    "\n",
    "dists = {\"name\": [\"中正區\", \"板橋區\", \"桃園區\", \"北屯區\",\n",
    "                  \"安南區\", \"三民區\", \"大安區\", \"永和區\",\n",
    "                  \"八德區\", \"前鎮區\", \"鳳山區\",\n",
    "                  \"信義區\", \"新店區\"],\n",
    "         \"population\": [159598, 551452, 441287, 275207,\n",
    "                        192327, 343203, 309835, 222531,\n",
    "                        198473, 189623, 359125,\n",
    "                        225561, 302070],\n",
    "         \"city\": [\"台北市\", \"新北市\", \"桃園市\", \"台中市\",\n",
    "                  \"台南市\", \"高雄市\", \"台北市\", \"新北市\",\n",
    "                  \"桃園市\", \"高雄市\", \"高雄市\",\n",
    "                  \"台北市\", \"新北市\"]}\n",
    "\n",
    "ordinals = [\"first\", \"second\", \"third\", \"fourth\", \"fifth\",\n",
    "            \"sixth\", \"seventh\", \"eigth\", \"ninth\", \"tenth\",\n",
    "            \"eleventh\", \"twelvth\", \"thirteenth\"]\n",
    "df = pd.DataFrame(dists,\n",
    "                  columns=[\"name\", \"population\"],\n",
    "                  index=dists[\"city\"])\n",
    "print(df.T)\n",
    "df.T.to_html(\"ch8-2-1d.html\")"
   ]
  },
  {
   "cell_type": "code",
   "execution_count": 55,
   "id": "bf9c1e77-a19d-456d-9cdc-330d87a04c55",
   "metadata": {},
   "outputs": [],
   "source": [
    "# %load ch8-2-2.py\n",
    "import pandas as pd\n",
    "\n",
    "dists = {\"name\": [\"中正區\", \"板橋區\", \"桃園區\", \"北屯區\",\n",
    "                  \"安南區\", \"三民區\", \"大安區\", \"永和區\",\n",
    "                  \"八德區\", \"前鎮區\", \"鳳山區\",\n",
    "                  \"信義區\", \"新店區\"],\n",
    "         \"population\": [159598, 551452, 441287, 275207,\n",
    "                        192327, 343203, 309835, 222531,\n",
    "                        198473, 189623, 359125,\n",
    "                        225561, 302070],\n",
    "         \"city\": [\"台北市\", \"新北市\", \"桃園市\", \"台中市\",\n",
    "                  \"台南市\", \"高雄市\", \"台北市\", \"新北市\",\n",
    "                  \"桃園市\", \"高雄市\", \"高雄市\",\n",
    "                  \"台北市\", \"新北市\"]}\n",
    "df = pd.DataFrame(dists)\n",
    "\n",
    "df.to_csv(\"dists2.csv\", index=False, encoding=\"utf8\")\n",
    "df.to_json(\"dists.json\")"
   ]
  },
  {
   "cell_type": "code",
   "execution_count": 56,
   "id": "d73c8796-f73d-4607-8cfd-ff1dbd17323c",
   "metadata": {},
   "outputs": [
    {
     "name": "stdout",
     "output_type": "stream",
     "text": [
      "   name  population city\n",
      "0   中正區      159598  台北市\n",
      "1   板橋區      551452  新北市\n",
      "2   桃園區      441287  桃園市\n",
      "3   北屯區      275207  台中市\n",
      "4   安南區      192327  台南市\n",
      "5   三民區      343203  高雄市\n",
      "6   大安區      309835  台北市\n",
      "7   永和區      222531  新北市\n",
      "8   八德區      198473  桃園市\n",
      "9   前鎮區      189623  高雄市\n",
      "10  鳳山區      359125  高雄市\n",
      "11  信義區      225561  台北市\n",
      "12  新店區      302070  新北市\n",
      "---------------------------\n",
      "   name  population city\n",
      "0   中正區      159598  台北市\n",
      "1   板橋區      551452  新北市\n",
      "2   桃園區      441287  桃園市\n",
      "3   北屯區      275207  台中市\n",
      "4   安南區      192327  台南市\n",
      "5   三民區      343203  高雄市\n",
      "6   大安區      309835  台北市\n",
      "7   永和區      222531  新北市\n",
      "8   八德區      198473  桃園市\n",
      "9   前鎮區      189623  高雄市\n",
      "10  鳳山區      359125  高雄市\n",
      "11  信義區      225561  台北市\n",
      "12  新店區      302070  新北市\n"
     ]
    }
   ],
   "source": [
    "# %load ch8-2-2a.py\n",
    "import pandas as pd\n",
    "\n",
    "# 匯入CSV格式的檔案\n",
    "df = pd.read_csv(\"dists2.csv\", encoding=\"utf8\")\n",
    "print(df)\n",
    "df.to_html(\"ch8-2-2a-01.html\")\n",
    "print(\"---------------------------\")\n",
    "# 匯入JSON格式的檔案\n",
    "df2 = pd.read_json(\"dists.json\")\n",
    "print(df2)\n",
    "df.to_html(\"ch8-2-2a-02.html\")"
   ]
  },
  {
   "cell_type": "code",
   "execution_count": 57,
   "id": "bb6d22a8-5818-4513-a857-cc16adc00ab9",
   "metadata": {},
   "outputs": [
    {
     "name": "stdout",
     "output_type": "stream",
     "text": [
      "  name  population city\n",
      "0  中正區      159598  台北市\n",
      "1  板橋區      551452  新北市\n",
      "2  桃園區      441287  桃園市\n",
      "3  北屯區      275207  台中市\n",
      "4  安南區      192327  台南市\n",
      "---------------------------\n",
      "  name  population city\n",
      "0  中正區      159598  台北市\n",
      "1  板橋區      551452  新北市\n",
      "2  桃園區      441287  桃園市\n"
     ]
    }
   ],
   "source": [
    "# %load ch8-2-3.py\n",
    "import pandas as pd\n",
    "\n",
    "df = pd.read_csv(\"dists.csv\", encoding=\"utf8\")\n",
    "\n",
    "print(df.head())\n",
    "df.head().to_html(\"ch8-2-3-01.html\")\n",
    "print(\"---------------------------\")\n",
    "print(df.head(3))\n",
    "df.head(3).to_html(\"ch8-2-3-02.html\")"
   ]
  },
  {
   "cell_type": "code",
   "execution_count": 58,
   "id": "3ab204f9-1890-4483-a03b-7ffa64ccc37a",
   "metadata": {},
   "outputs": [
    {
     "name": "stdout",
     "output_type": "stream",
     "text": [
      "   name  population city\n",
      "8   八德區      198473  桃園市\n",
      "9   前鎮區      189623  高雄市\n",
      "10  鳳山區      359125  高雄市\n",
      "11  信義區      225561  台北市\n",
      "12  新店區      302070  新北市\n",
      "---------------------------\n",
      "   name  population city\n",
      "10  鳳山區      359125  高雄市\n",
      "11  信義區      225561  台北市\n",
      "12  新店區      302070  新北市\n"
     ]
    }
   ],
   "source": [
    "# %load ch8-2-3a.py\n",
    "import pandas as pd\n",
    "\n",
    "df = pd.read_csv(\"dists.csv\", encoding=\"utf8\")\n",
    "\n",
    "print(df.tail())\n",
    "df.tail().to_html(\"ch8-2-3a-01.html\")\n",
    "print(\"---------------------------\")\n",
    "print(df.tail(3))\n",
    "df.tail(3).to_html(\"ch8-2-3a-02.html\")"
   ]
  },
  {
   "cell_type": "code",
   "execution_count": 59,
   "id": "7628bffa-67ae-4a6e-9cc3-f86f9330f8f3",
   "metadata": {},
   "outputs": [
    {
     "name": "stdout",
     "output_type": "stream",
     "text": [
      "     區      人口  直轄市\n",
      "0  中正區  159598  台北市\n",
      "1  板橋區  551452  新北市\n",
      "2  桃園區  441287  桃園市\n",
      "3  北屯區  275207  台中市\n"
     ]
    }
   ],
   "source": [
    "# %load ch8-2-3b.py\n",
    "import pandas as pd\n",
    "\n",
    "df = pd.read_csv(\"dists.csv\", encoding=\"utf8\")\n",
    "\n",
    "df.columns = [\"區\", \"人口\", \"直轄市\"]\n",
    "print(df.head(4))\n",
    "df.head(4).to_html(\"ch8-2-3b.html\")"
   ]
  },
  {
   "cell_type": "code",
   "execution_count": 60,
   "id": "800727aa-c9b6-4aef-b5b0-73b6129c33d1",
   "metadata": {},
   "outputs": [
    {
     "name": "stdout",
     "output_type": "stream",
     "text": [
      "RangeIndex(start=0, stop=13, step=1)\n",
      "---------------------------\n",
      "Index(['區', '人口', '直轄市'], dtype='object')\n",
      "---------------------------\n",
      "[['中正區' 159598 '台北市']\n",
      " ['板橋區' 551452 '新北市']\n",
      " ['桃園區' 441287 '桃園市']\n",
      " ['北屯區' 275207 '台中市']\n",
      " ['安南區' 192327 '台南市']\n",
      " ['三民區' 343203 '高雄市']\n",
      " ['大安區' 309835 '台北市']\n",
      " ['永和區' 222531 '新北市']\n",
      " ['八德區' 198473 '桃園市']\n",
      " ['前鎮區' 189623 '高雄市']\n",
      " ['鳳山區' 359125 '高雄市']\n",
      " ['信義區' 225561 '台北市']\n",
      " ['新店區' 302070 '新北市']]\n"
     ]
    }
   ],
   "source": [
    "# %load ch8-2-3c.py\n",
    "import pandas as pd\n",
    "\n",
    "df = pd.read_csv(\"dists.csv\", encoding=\"utf8\")\n",
    "\n",
    "df.columns = [\"區\", \"人口\", \"直轄市\"]\n",
    "print(df.index)\n",
    "print(\"---------------------------\")\n",
    "print(df.columns)\n",
    "print(\"---------------------------\")\n",
    "print(df.values)"
   ]
  },
  {
   "cell_type": "code",
   "execution_count": 61,
   "id": "19f4a3a4-686d-4f4e-b1b3-4b17ecf857d1",
   "metadata": {},
   "outputs": [
    {
     "name": "stdout",
     "output_type": "stream",
     "text": [
      "資料數=  13\n",
      "---------------------------\n",
      "形狀=  (13, 3)\n",
      "---------------------------\n",
      "<class 'pandas.core.frame.DataFrame'>\n",
      "RangeIndex: 13 entries, 0 to 12\n",
      "Data columns (total 3 columns):\n",
      " #   Column      Non-Null Count  Dtype \n",
      "---  ------      --------------  ----- \n",
      " 0   name        13 non-null     object\n",
      " 1   population  13 non-null     int64 \n",
      " 2   city        13 non-null     object\n",
      "dtypes: int64(1), object(2)\n",
      "memory usage: 440.0+ bytes\n"
     ]
    }
   ],
   "source": [
    "# %load ch8-2-3d.py\n",
    "import pandas as pd\n",
    "\n",
    "df = pd.read_csv(\"dists.csv\", encoding=\"utf8\")\n",
    "\n",
    "print(\"資料數= \", len(df))\n",
    "print(\"---------------------------\")\n",
    "print(\"形狀= \", df.shape)\n",
    "print(\"---------------------------\")\n",
    "df.info()"
   ]
  },
  {
   "cell_type": "code",
   "execution_count": 62,
   "id": "1d326a5f-aaca-42de-81fd-0f6a29476618",
   "metadata": {},
   "outputs": [
    {
     "name": "stdout",
     "output_type": "stream",
     "text": [
      "0 台北市 中正區 159598\n",
      "1 新北市 板橋區 551452\n",
      "2 桃園市 桃園區 441287\n",
      "3 台中市 北屯區 275207\n",
      "4 台南市 安南區 192327\n",
      "5 高雄市 三民區 343203\n",
      "6 台北市 大安區 309835\n",
      "7 新北市 永和區 222531\n",
      "8 桃園市 八德區 198473\n",
      "9 高雄市 前鎮區 189623\n",
      "10 高雄市 鳳山區 359125\n",
      "11 台北市 信義區 225561\n",
      "12 新北市 新店區 302070\n"
     ]
    }
   ],
   "source": [
    "# %load ch8-2-4.py\n",
    "import pandas as pd\n",
    "\n",
    "df = pd.read_csv(\"dists.csv\", encoding=\"utf8\")\n",
    "\n",
    "for index, row in df.iterrows():\n",
    "  print(index, row[\"city\"], row[\"name\"], row[\"population\"])"
   ]
  },
  {
   "cell_type": "code",
   "execution_count": 63,
   "id": "5f332416-ebcc-4066-9cae-d2f294281288",
   "metadata": {},
   "outputs": [
    {
     "name": "stdout",
     "output_type": "stream",
     "text": [
      "     name  population\n",
      "city                 \n",
      "台北市   中正區      159598\n",
      "新北市   板橋區      551452\n",
      "桃園市   桃園區      441287\n",
      "台中市   北屯區      275207\n",
      "台南市   安南區      192327\n",
      "---------------------------\n",
      "  city name  population\n",
      "0  台北市  中正區      159598\n",
      "1  新北市  板橋區      551452\n",
      "2  桃園市  桃園區      441287\n",
      "3  台中市  北屯區      275207\n",
      "4  台南市  安南區      192327\n"
     ]
    }
   ],
   "source": [
    "# %load ch8-2-5.py\n",
    "import pandas as pd\n",
    "\n",
    "df = pd.read_csv(\"dists.csv\", encoding=\"utf8\")\n",
    "\n",
    "df2 = df.set_index(\"city\")\n",
    "print(df2.head())\n",
    "df2.head().to_html(\"ch8-2-5-01.html\")\n",
    "print(\"---------------------------\")\n",
    "df3 = df2.reset_index()\n",
    "print(df3.head())\n",
    "df3.head().to_html(\"ch8-2-5-02.html\")"
   ]
  },
  {
   "cell_type": "code",
   "execution_count": 64,
   "id": "ee716762-8d30-486b-a593-f4b715e600a5",
   "metadata": {},
   "outputs": [
    {
     "name": "stdout",
     "output_type": "stream",
     "text": [
      "           population\n",
      "city name            \n",
      "高雄市  鳳山區       359125\n",
      "     前鎮區       189623\n",
      "     三民區       343203\n",
      "桃園市  桃園區       441287\n",
      "     八德區       198473\n",
      "新北市  永和區       222531\n",
      "     板橋區       551452\n",
      "     新店區       302070\n",
      "台南市  安南區       192327\n",
      "台北市  大安區       309835\n",
      "     信義區       225561\n",
      "     中正區       159598\n",
      "台中市  北屯區       275207\n"
     ]
    }
   ],
   "source": [
    "# %load ch8-2-5a.py\n",
    "import pandas as pd\n",
    "\n",
    "df = pd.read_csv(\"dists.csv\", encoding=\"utf8\")\n",
    "\n",
    "df2 = df.set_index([\"city\", \"name\"])\n",
    "df2.sort_index(ascending=False, inplace=True)\n",
    "print(df2)\n",
    "df2.to_html(\"ch8-2-5a.html\")"
   ]
  },
  {
   "cell_type": "code",
   "execution_count": 65,
   "id": "856486e3-6da0-4353-8e9d-afefb3e3ebfc",
   "metadata": {},
   "outputs": [
    {
     "name": "stdout",
     "output_type": "stream",
     "text": [
      "first     159598\n",
      "second    551452\n",
      "third     441287\n",
      "Name: population, dtype: int64\n",
      "---------------------------\n",
      "       city name\n",
      "first   台北市  中正區\n",
      "second  新北市  板橋區\n",
      "third   桃園市  桃園區\n",
      "---------------------------\n",
      "first     159598\n",
      "second    551452\n",
      "third     441287\n",
      "Name: population, dtype: int64\n"
     ]
    }
   ],
   "source": [
    "# %load ch8-3-1.py\n",
    "import pandas as pd\n",
    "\n",
    "df = pd.read_csv(\"dists.csv\", encoding=\"utf8\")\n",
    "ordinals = [\"first\", \"second\", \"third\", \"fourth\", \"fifth\",\n",
    "            \"sixth\", \"seventh\", \"eigth\", \"ninth\", \"tenth\",\n",
    "            \"eleventh\", \"twelvth\", \"thirteenth\"]\n",
    "df.index = ordinals\n",
    "\n",
    "print(df[\"population\"].head(3))\n",
    "print(\"---------------------------\")\n",
    "print(df[[\"city\", \"name\"]].head(3))\n",
    "df[[\"city\", \"name\"]].head(3).to_html(\"ch8-3-1.html\")\n",
    "print(\"---------------------------\")\n",
    "print(df.population.head(3))   # 使用屬性方式"
   ]
  },
  {
   "cell_type": "code",
   "execution_count": 66,
   "id": "bbd332d5-366f-4f2d-8b81-f9dd71faa824",
   "metadata": {},
   "outputs": [
    {
     "name": "stdout",
     "output_type": "stream",
     "text": [
      "       name  population city\n",
      "first   中正區      159598  台北市\n",
      "second  板橋區      551452  新北市\n",
      "third   桃園區      441287  桃園市\n",
      "---------------------------\n",
      "         name  population city\n",
      "sixth     三民區      343203  高雄市\n",
      "seventh   大安區      309835  台北市\n",
      "eigth     永和區      222531  新北市\n",
      "ninth     八德區      198473  桃園市\n",
      "tenth     前鎮區      189623  高雄市\n",
      "eleventh  鳳山區      359125  高雄市\n"
     ]
    }
   ],
   "source": [
    "# %load ch8-3-1a.py\n",
    "import pandas as pd\n",
    "\n",
    "df = pd.read_csv(\"dists.csv\", encoding=\"utf8\")\n",
    "ordinals = [\"first\", \"second\", \"third\", \"fourth\", \"fifth\",\n",
    "            \"sixth\", \"seventh\", \"eigth\", \"ninth\", \"tenth\",\n",
    "            \"eleventh\", \"twelvth\", \"thirteenth\"]\n",
    "df.index = ordinals\n",
    "\n",
    "print(df[0:3])                # 不含 3\n",
    "df[0:3].to_html(\"ch8-3-1a-01.html\")\n",
    "print(\"---------------------------\")\n",
    "print(df[\"sixth\":\"eleventh\"])  # 含 \"eleventh\"\n",
    "df[\"sixth\":\"eleventh\"].to_html(\"ch8-3-1a-02.html\")"
   ]
  },
  {
   "cell_type": "code",
   "execution_count": 67,
   "id": "77de3b1c-3229-4408-ae42-b05a681f7471",
   "metadata": {},
   "outputs": [
    {
     "name": "stdout",
     "output_type": "stream",
     "text": [
      "name             板橋區\n",
      "population    551452\n",
      "city             新北市\n",
      "Name: second, dtype: object\n",
      "<class 'pandas.core.series.Series'>\n",
      "---------------------------\n",
      "       name  population\n",
      "first   中正區      159598\n",
      "second  板橋區      551452\n",
      "third   桃園區      441287\n",
      "---------------------------\n",
      "       name  population\n",
      "third   桃園區      441287\n",
      "fourth  北屯區      275207\n",
      "fifth   安南區      192327\n",
      "---------------------------\n",
      "name             桃園區\n",
      "population    441287\n",
      "Name: third, dtype: object\n",
      "---------------------------\n",
      "中正區\n",
      "<class 'str'>\n",
      "---------------------------\n",
      "159598\n",
      "<class 'numpy.int64'>\n"
     ]
    }
   ],
   "source": [
    "# %load ch8-3-1b.py\n",
    "import pandas as pd\n",
    "\n",
    "df = pd.read_csv(\"dists.csv\", encoding=\"utf8\")\n",
    "ordinals = [\"first\", \"second\", \"third\", \"fourth\", \"fifth\",\n",
    "            \"sixth\", \"seventh\", \"eigth\", \"ninth\", \"tenth\",\n",
    "            \"eleventh\", \"twelvth\", \"thirteenth\"]\n",
    "df.index = ordinals\n",
    "\n",
    "print(df.loc[ordinals[1]])\n",
    "print(type(df.loc[ordinals[1]]))\n",
    "print(\"---------------------------\")\n",
    "print(df.loc[:, [\"name\", \"population\"]].head(3))\n",
    "df.loc[:, [\"name\", \"population\"]].head(3).to_html(\"ch8-3-1b-01.html\")\n",
    "print(\"---------------------------\")\n",
    "print(df.loc[\"third\":\"fifth\", [\"name\", \"population\"]])\n",
    "print(\"---------------------------\")\n",
    "print(df.loc[\"third\", [\"name\", \"population\"]])\n",
    "df.loc[\"third\":\"fifth\", [\"name\", \"population\"]].to_html(\"ch8-3-1b-02.html\")\n",
    "print(\"---------------------------\")\n",
    "# 取得單一純量值\n",
    "print(df.loc[ordinals[0], \"name\"])\n",
    "print(type(df.loc[ordinals[0], \"name\"]))\n",
    "print(\"---------------------------\")\n",
    "print(df.loc[\"first\", \"population\"])\n",
    "print(type(df.loc[\"first\", \"population\"]))"
   ]
  },
  {
   "cell_type": "code",
   "execution_count": 68,
   "id": "d1c39453-7213-4765-ac3f-53fbba8402be",
   "metadata": {},
   "outputs": [
    {
     "name": "stdout",
     "output_type": "stream",
     "text": [
      "name             北屯區\n",
      "population    275207\n",
      "city             台中市\n",
      "Name: fourth, dtype: object\n",
      "---------------------------\n",
      "        population city\n",
      "fourth      275207  台中市\n",
      "fifth       192327  台南市\n",
      "---------------------------\n",
      "       name  population city\n",
      "second  板橋區      551452  新北市\n",
      "third   桃園區      441287  桃園市\n",
      "---------------------------\n",
      "            population city\n",
      "first           159598  台北市\n",
      "second          551452  新北市\n",
      "third           441287  桃園市\n",
      "fourth          275207  台中市\n",
      "fifth           192327  台南市\n",
      "sixth           343203  高雄市\n",
      "seventh         309835  台北市\n",
      "eigth           222531  新北市\n",
      "ninth           198473  桃園市\n",
      "tenth           189623  高雄市\n",
      "eleventh        359125  高雄市\n",
      "twelvth         225561  台北市\n",
      "thirteenth      302070  新北市\n",
      "---------------------------\n",
      "       name city\n",
      "second  板橋區  新北市\n",
      "third   桃園區  桃園市\n",
      "fifth   安南區  台南市\n",
      "---------------------------\n",
      "551452\n",
      "551452\n"
     ]
    }
   ],
   "source": [
    "# %load ch8-3-1c.py\n",
    "import pandas as pd\n",
    "\n",
    "df = pd.read_csv(\"dists.csv\", encoding=\"utf8\")\n",
    "ordinals = [\"first\", \"second\", \"third\", \"fourth\", \"fifth\",\n",
    "            \"sixth\", \"seventh\", \"eigth\", \"ninth\", \"tenth\",\n",
    "            \"eleventh\", \"twelvth\", \"thirteenth\"]\n",
    "df.index = ordinals\n",
    "\n",
    "print(df.iloc[3])          # 第 4 筆\n",
    "print(\"---------------------------\")\n",
    "print(df.iloc[3:5, 1:3])   # 切割\n",
    "df.iloc[3:5, 1:3].to_html(\"ch8-3-1c-01.html\")\n",
    "print(\"---------------------------\")\n",
    "print(df.iloc[1:3, :])     # 切割列\n",
    "df.iloc[1:3, :].to_html(\"ch8-3-1c-02.html\")\n",
    "print(\"---------------------------\")\n",
    "print(df.iloc[:, 1:3])     # 切割欄\n",
    "df.iloc[:, 1:3].to_html(\"ch8-3-1c-03.html\")\n",
    "print(\"---------------------------\")\n",
    "print(df.iloc[[1, 2, 4], [0, 2]])   # 索引清單\n",
    "df.iloc[[1, 2, 4], [0, 2]].to_html(\"ch8-3-1c-04.html\")\n",
    "print(\"---------------------------\")\n",
    "# 取得單一純量值\n",
    "print(df.iloc[1, 1])\n",
    "print(df.iat[1, 1])"
   ]
  },
  {
   "cell_type": "code",
   "execution_count": 69,
   "id": "5c21774b-4a6e-47a2-8673-1bc58d30c941",
   "metadata": {},
   "outputs": [
    {
     "name": "stdout",
     "output_type": "stream",
     "text": [
      "         name  population city\n",
      "second    板橋區      551452  新北市\n",
      "third     桃園區      441287  桃園市\n",
      "eleventh  鳳山區      359125  高雄市\n",
      "---------------------------\n",
      "         name  population city\n",
      "first     中正區      159598  台北市\n",
      "sixth     三民區      343203  高雄市\n",
      "seventh   大安區      309835  台北市\n",
      "tenth     前鎮區      189623  高雄市\n",
      "eleventh  鳳山區      359125  高雄市\n",
      "twelvth   信義區      225561  台北市\n"
     ]
    }
   ],
   "source": [
    "# %load ch8-3-2.py\n",
    "import pandas as pd\n",
    "\n",
    "df = pd.read_csv(\"dists.csv\", encoding=\"utf8\")\n",
    "ordinals = [\"first\", \"second\", \"third\", \"fourth\", \"fifth\",\n",
    "            \"sixth\", \"seventh\", \"eigth\", \"ninth\", \"tenth\",\n",
    "            \"eleventh\", \"twelvth\", \"thirteenth\"]\n",
    "df.index = ordinals\n",
    "\n",
    "print(df[df.population > 350000])\n",
    "df[df.population > 350000].to_html(\"ch8-3-2-01.html\")\n",
    "print(\"---------------------------\")\n",
    "print(df[df[\"city\"].isin([\"台北市\", \"高雄市\"])])\n",
    "df[df[\"city\"].isin([\"台北市\", \"高雄市\"])].to_html(\"ch8-3-2-02.html\")"
   ]
  },
  {
   "cell_type": "code",
   "execution_count": 70,
   "id": "21ea23a9-6960-4fac-81b3-35e227b6d80f",
   "metadata": {},
   "outputs": [
    {
     "name": "stdout",
     "output_type": "stream",
     "text": [
      "         name  population city\n",
      "third     桃園區      441287  桃園市\n",
      "eleventh  鳳山區      359125  高雄市\n",
      "---------------------------\n",
      "        name  population city\n",
      "first    中正區      159598  台北市\n",
      "fourth   北屯區      275207  台中市\n",
      "fifth    安南區      192327  台南市\n",
      "seventh  大安區      309835  台北市\n",
      "twelvth  信義區      225561  台北市\n"
     ]
    }
   ],
   "source": [
    "# %load ch8-3-2a.py\n",
    "import pandas as pd\n",
    "\n",
    "df = pd.read_csv(\"dists.csv\", encoding=\"utf8\")\n",
    "ordinals = [\"first\", \"second\", \"third\", \"fourth\", \"fifth\",\n",
    "            \"sixth\", \"seventh\", \"eigth\", \"ninth\", \"tenth\",\n",
    "            \"eleventh\", \"twelvth\", \"thirteenth\"]\n",
    "df.index = ordinals\n",
    "\n",
    "print(df[(df.population > 350000) & (df.population < 500000)])\n",
    "df[(df.population > 350000) & (df.population < 500000)].to_html(\"ch8-3-2a-01.html\")\n",
    "print(\"---------------------------\")\n",
    "print(df[df[\"city\"].str.startswith(\"台\")])\n",
    "df[df[\"city\"].str.startswith(\"台\")].to_html(\"ch8-3-2a-02.html\")"
   ]
  },
  {
   "cell_type": "code",
   "execution_count": 71,
   "id": "a5682c36-9de6-4e4d-8eee-0707fbda29f1",
   "metadata": {},
   "outputs": [
    {
     "name": "stdout",
     "output_type": "stream",
     "text": [
      "           name city\n",
      "population          \n",
      "159598      中正區  台北市\n",
      "551452      板橋區  新北市\n",
      "441287      桃園區  桃園市\n",
      "275207      北屯區  台中市\n",
      "192327      安南區  台南市\n",
      "---------------------------\n",
      "           name city\n",
      "population          \n",
      "551452      板橋區  新北市\n",
      "441287      桃園區  桃園市\n",
      "359125      鳳山區  高雄市\n",
      "343203      三民區  高雄市\n",
      "309835      大安區  台北市\n"
     ]
    }
   ],
   "source": [
    "# %load ch8-3-3.py\n",
    "import pandas as pd\n",
    "\n",
    "df = pd.read_csv(\"dists.csv\", encoding=\"utf8\")\n",
    "ordinals = [\"first\", \"second\", \"third\", \"fourth\", \"fifth\",\n",
    "            \"sixth\", \"seventh\", \"eigth\", \"ninth\", \"tenth\",\n",
    "            \"eleventh\", \"twelvth\", \"thirteenth\"]\n",
    "df.index = ordinals\n",
    "\n",
    "df2 = df.set_index(\"population\")\n",
    "print(df2.head())\n",
    "df2.head().to_html(\"ch8-3-3-01.html\")\n",
    "print(\"---------------------------\")\n",
    "df2.sort_index(ascending=False, inplace=True)\n",
    "print(df2.head())\n",
    "df2.head().to_html(\"ch8-3-3-02.html\")"
   ]
  },
  {
   "cell_type": "code",
   "execution_count": 72,
   "id": "ebf2af32-c0bf-42c5-8a18-fbf9497ea83c",
   "metadata": {},
   "outputs": [
    {
     "name": "stdout",
     "output_type": "stream",
     "text": [
      "       name  population city\n",
      "first   中正區      159598  台北市\n",
      "second  板橋區      551452  新北市\n",
      "third   桃園區      441287  桃園市\n",
      "fourth  北屯區      275207  台中市\n",
      "fifth   安南區      192327  台南市\n",
      "---------------------------\n",
      "         name  population city\n",
      "second    板橋區      551452  新北市\n",
      "third     桃園區      441287  桃園市\n",
      "eleventh  鳳山區      359125  高雄市\n",
      "sixth     三民區      343203  高雄市\n",
      "seventh   大安區      309835  台北市\n",
      "---------------------------\n",
      "        name  population city\n",
      "fourth   北屯區      275207  台中市\n",
      "first    中正區      159598  台北市\n",
      "twelvth  信義區      225561  台北市\n",
      "seventh  大安區      309835  台北市\n",
      "fifth    安南區      192327  台南市\n"
     ]
    }
   ],
   "source": [
    "# %load ch8-3-3a.py\n",
    "import pandas as pd\n",
    "\n",
    "df = pd.read_csv(\"dists.csv\", encoding=\"utf8\")\n",
    "ordinals = [\"first\", \"second\", \"third\", \"fourth\", \"fifth\",\n",
    "            \"sixth\", \"seventh\", \"eigth\", \"ninth\", \"tenth\",\n",
    "            \"eleventh\", \"twelvth\", \"thirteenth\"]\n",
    "df.index = ordinals\n",
    "\n",
    "print(df.head())\n",
    "df.head().to_html(\"ch8-3-3a-01.html\")\n",
    "print(\"---------------------------\")\n",
    "df2 = df.sort_values(\"population\", ascending=False)\n",
    "print(df2.head())\n",
    "df2.head().to_html(\"ch8-3-3a-02.html\")\n",
    "print(\"---------------------------\")\n",
    "df.sort_values([\"city\", \"population\"], inplace=True)\n",
    "print(df.head())\n",
    "df.head().to_html(\"ch8-3-3a-03.html\")"
   ]
  },
  {
   "cell_type": "code",
   "execution_count": 73,
   "id": "bfd788c8-ec41-48f6-a268-883e78b204fa",
   "metadata": {},
   "outputs": [
    {
     "name": "stdout",
     "output_type": "stream",
     "text": [
      "       name  population city\n",
      "first   中正區      159598  台北市\n",
      "second  板橋區      551452  新北市\n",
      "---------------------------\n",
      "159598\n",
      "551452\n",
      "       name  population city\n",
      "first   中正區      160000  台北市\n",
      "second  板橋區      560000  新北市\n"
     ]
    }
   ],
   "source": [
    "# %load ch8-4-1.py\n",
    "import pandas as pd\n",
    "\n",
    "df = pd.read_csv(\"dists.csv\", encoding=\"utf8\")\n",
    "ordinals = [\"first\", \"second\", \"third\", \"fourth\", \"fifth\",\n",
    "            \"sixth\", \"seventh\", \"eigth\", \"ninth\", \"tenth\",\n",
    "            \"eleventh\", \"twelvth\", \"thirteenth\"]\n",
    "df.index = ordinals\n",
    "\n",
    "print(df.head(2))\n",
    "print(\"---------------------------\")\n",
    "# 取得與更新單一純量值\n",
    "print(df.loc[ordinals[0], \"population\"])\n",
    "df.loc[ordinals[0], \"population\"] = 160000\n",
    "print(df.iloc[1, 1])\n",
    "df.iloc[1, 1] = 560000\n",
    "print(df.head(2))\n",
    "df.head(2).to_html(\"ch8-4-1.html\")"
   ]
  },
  {
   "cell_type": "code",
   "execution_count": 74,
   "id": "0ab6c7fd-556a-4446-89c0-3b38e29f2efd",
   "metadata": {},
   "outputs": [
    {
     "name": "stdout",
     "output_type": "stream",
     "text": [
      "       name  population city\n",
      "first   中正區      159598  台北市\n",
      "second  板橋區      551452  新北市\n",
      "third   桃園區      441287  桃園市\n",
      "---------------------------\n",
      "name             板橋區\n",
      "population    551452\n",
      "city             新北市\n",
      "Name: second, dtype: object\n",
      "---------------------------\n",
      "       name  population city\n",
      "first   中正區      159598  台北市\n",
      "second  新莊區      416640  新北市\n",
      "third   桃園區      441287  桃園市\n"
     ]
    }
   ],
   "source": [
    "# %load ch8-4-1a.py\n",
    "import pandas as pd\n",
    "\n",
    "df = pd.read_csv(\"dists.csv\", encoding=\"utf8\")\n",
    "ordinals = [\"first\", \"second\", \"third\", \"fourth\", \"fifth\",\n",
    "            \"sixth\", \"seventh\", \"eigth\", \"ninth\", \"tenth\",\n",
    "            \"eleventh\", \"twelvth\", \"thirteenth\"]\n",
    "df.index = ordinals\n",
    "\n",
    "print(df.head(3))\n",
    "print(\"---------------------------\")\n",
    "# 取得與更新單筆記錄\n",
    "print(df.loc[ordinals[1]])\n",
    "print(\"---------------------------\")\n",
    "s = [\"新莊區\", 416640, \"新北市\"]\n",
    "df.loc[ordinals[1]] = s\n",
    "print(df.head(3))\n",
    "df.head(3).to_html(\"ch8-4-1a.html\")"
   ]
  },
  {
   "cell_type": "code",
   "execution_count": 75,
   "id": "7ddae87b-4987-4f15-9a77-2c4cc4be77e0",
   "metadata": {},
   "outputs": [
    {
     "name": "stdout",
     "output_type": "stream",
     "text": [
      "           name  population city\n",
      "first       中正區      159598  台北市\n",
      "second      板橋區      551452  新北市\n",
      "third       桃園區      441287  桃園市\n",
      "fourth      北屯區      275207  台中市\n",
      "fifth       安南區      192327  台南市\n",
      "sixth       三民區      343203  高雄市\n",
      "seventh     大安區      309835  台北市\n",
      "eigth       永和區      222531  新北市\n",
      "ninth       八德區      198473  桃園市\n",
      "tenth       前鎮區      189623  高雄市\n",
      "eleventh    鳳山區      359125  高雄市\n",
      "twelvth     信義區      225561  台北市\n",
      "thirteenth  新店區      302070  新北市\n",
      "---------------------------\n",
      "first         159598\n",
      "second        551452\n",
      "third         441287\n",
      "fourth        275207\n",
      "fifth         192327\n",
      "sixth         343203\n",
      "seventh       309835\n",
      "eigth         222531\n",
      "ninth         198473\n",
      "tenth         189623\n",
      "eleventh      359125\n",
      "twelvth       225561\n",
      "thirteenth    302070\n",
      "Name: population, dtype: int64\n",
      "---------------------------\n",
      "       name  population city\n",
      "first   中正區      504007  台北市\n",
      "second  板橋區      558749  新北市\n",
      "third   桃園區      693285  桃園市\n",
      "fourth  北屯區      339604  台中市\n",
      "fifth   安南區       90610  台南市\n"
     ]
    },
    {
     "name": "stderr",
     "output_type": "stream",
     "text": [
      "C:\\Users\\aaronchh\\AppData\\Local\\Temp\\ipykernel_48808\\2877611890.py:16: FutureWarning: In a future version, `df.iloc[:, i] = newvals` will attempt to set the values inplace instead of always setting a new array. To retain the old behavior, use either `df[df.columns[i]] = newvals` or, if columns are non-unique, `df.isetitem(i, newvals)`\n",
      "  df.loc[:, \"population\"] = np.random.randint(34000, 700000, size=len(df))\n"
     ]
    }
   ],
   "source": [
    "# %load ch8-4-1b.py\n",
    "import pandas as pd\n",
    "import numpy as np\n",
    "\n",
    "df = pd.read_csv(\"dists.csv\", encoding=\"utf8\")\n",
    "ordinals = [\"first\", \"second\", \"third\", \"fourth\", \"fifth\",\n",
    "            \"sixth\", \"seventh\", \"eigth\", \"ninth\", \"tenth\",\n",
    "            \"eleventh\", \"twelvth\", \"thirteenth\"]\n",
    "df.index = ordinals\n",
    "\n",
    "print(df)\n",
    "print(\"---------------------------\")\n",
    "# 取得與更新整個欄位\n",
    "print(df.loc[:, \"population\"])\n",
    "print(\"---------------------------\")\n",
    "df.loc[:, \"population\"] = np.random.randint(34000, 700000, size=len(df))\n",
    "print(df.head())\n",
    "df.head().to_html(\"ch8-4-1b.html\")"
   ]
  },
  {
   "cell_type": "code",
   "execution_count": 76,
   "id": "f4699b4e-abbc-4027-bfc4-78ed2618ed5a",
   "metadata": {},
   "outputs": [
    {
     "name": "stdout",
     "output_type": "stream",
     "text": [
      "      0    1    2\n",
      "0  1071  150  203\n",
      "1   770  959  231\n",
      "---------------------------\n",
      "        0      1   2\n",
      "0  1071.0    NaN NaN\n",
      "1     NaN  959.0 NaN\n",
      "---------------------------\n",
      "     0    1    2\n",
      "0  971  150  203\n",
      "1  770  859  231\n"
     ]
    }
   ],
   "source": [
    "# %load ch8-4-1c.py\n",
    "import pandas as pd\n",
    "import numpy as np\n",
    "\n",
    "df = pd.DataFrame(np.random.randint(5, 1500, size=(2, 3)))\n",
    "print(df)\n",
    "df.to_html(\"ch8-4-1c-01.html\")\n",
    "print(\"---------------------------\")\n",
    "# 取得與更新整個DataFrame\n",
    "print(df[df > 800])\n",
    "df[df > 800].to_html(\"ch8-4-1c-02.html\")\n",
    "print(\"---------------------------\")\n",
    "df[df > 800] = df - 100\n",
    "print(df)\n",
    "df.to_html(\"ch8-4-1c-03.html\")"
   ]
  },
  {
   "cell_type": "code",
   "execution_count": 77,
   "id": "d3a1270f-fa59-4db3-9e30-647b10f315d2",
   "metadata": {},
   "outputs": [
    {
     "name": "stdout",
     "output_type": "stream",
     "text": [
      "       name  population city\n",
      "first   中正區      159598  台北市\n",
      "second  板橋區      551452  新北市\n",
      "third   桃園區      441287  桃園市\n",
      "---------------------------\n",
      "159598\n",
      "551452.0\n",
      "       name  population city\n",
      "first   中正區         NaN  台北市\n",
      "second  板橋區         NaN  新北市\n",
      "third   桃園區    441287.0  桃園市\n"
     ]
    }
   ],
   "source": [
    "# %load ch8-4-2.py\n",
    "import pandas as pd\n",
    "\n",
    "df = pd.read_csv(\"dists.csv\", encoding=\"utf8\")\n",
    "ordinals = [\"first\", \"second\", \"third\", \"fourth\", \"fifth\",\n",
    "            \"sixth\", \"seventh\", \"eigth\", \"ninth\", \"tenth\",\n",
    "            \"eleventh\", \"twelvth\", \"thirteenth\"]\n",
    "df.index = ordinals\n",
    "\n",
    "print(df.head(3))\n",
    "print(\"---------------------------\")\n",
    "# 刪除純量值\n",
    "print(df.loc[ordinals[0], \"population\"])\n",
    "df.loc[ordinals[0], \"population\"] = None\n",
    "print(df.iloc[1, 1])\n",
    "df.iloc[1, 1] = None\n",
    "print(df.head(3))\n",
    "df.head(3).to_html(\"ch8-4-2.html\")"
   ]
  },
  {
   "cell_type": "code",
   "execution_count": 78,
   "id": "4ee6d734-f59e-45f3-92f3-b903b21aba1a",
   "metadata": {},
   "outputs": [
    {
     "name": "stdout",
     "output_type": "stream",
     "text": [
      "       name  population city\n",
      "first   中正區      159598  台北市\n",
      "second  板橋區      551452  新北市\n",
      "third   桃園區      441287  桃園市\n",
      "fourth  北屯區      275207  台中市\n",
      "fifth   安南區      192327  台南市\n",
      "---------------------------\n",
      "        name  population city\n",
      "first    中正區      159598  台北市\n",
      "third    桃園區      441287  桃園市\n",
      "fifth    安南區      192327  台南市\n",
      "sixth    三民區      343203  高雄市\n",
      "seventh  大安區      309835  台北市\n",
      "---------------------------\n",
      "        name  population city\n",
      "first    中正區      159598  台北市\n",
      "second   板橋區      551452  新北市\n",
      "fifth    安南區      192327  台南市\n",
      "sixth    三民區      343203  高雄市\n",
      "seventh  大安區      309835  台北市\n"
     ]
    }
   ],
   "source": [
    "# %load ch8-4-2a.py\n",
    "import pandas as pd\n",
    "\n",
    "df = pd.read_csv(\"dists.csv\", encoding=\"utf8\")\n",
    "ordinals = [\"first\", \"second\", \"third\", \"fourth\", \"fifth\",\n",
    "            \"sixth\", \"seventh\", \"eigth\", \"ninth\", \"tenth\",\n",
    "            \"eleventh\", \"twelvth\", \"thirteenth\"]\n",
    "df.index = ordinals\n",
    "\n",
    "print(df.head())\n",
    "print(\"---------------------------\")\n",
    "# 刪除記錄\n",
    "df2 = df.drop([\"second\", \"fourth\"])    # 2,4 筆\n",
    "print(df2.head())\n",
    "df2.head().to_html(\"ch8-4-2a-01.html\")\n",
    "print(\"---------------------------\")\n",
    "df.drop(df.index[[2, 3]], inplace=True)  # 3,4 筆\n",
    "print(df.head())\n",
    "df.head().to_html(\"ch8-4-2a-02.html\")"
   ]
  },
  {
   "cell_type": "code",
   "execution_count": 79,
   "id": "a3471701-2074-4c8b-9e78-d9e774fc1ebb",
   "metadata": {},
   "outputs": [
    {
     "name": "stdout",
     "output_type": "stream",
     "text": [
      "       name  population city\n",
      "first   中正區      159598  台北市\n",
      "second  板橋區      551452  新北市\n",
      "third   桃園區      441287  桃園市\n",
      "---------------------------\n",
      "       name city\n",
      "first   中正區  台北市\n",
      "second  板橋區  新北市\n",
      "third   桃園區  桃園市\n"
     ]
    }
   ],
   "source": [
    "# %load ch8-4-2b.py\n",
    "import pandas as pd\n",
    "\n",
    "df = pd.read_csv(\"dists.csv\", encoding=\"utf8\")\n",
    "ordinals = [\"first\", \"second\", \"third\", \"fourth\", \"fifth\",\n",
    "            \"sixth\", \"seventh\", \"eigth\", \"ninth\", \"tenth\",\n",
    "            \"eleventh\", \"twelvth\", \"thirteenth\"]\n",
    "df.index = ordinals\n",
    "\n",
    "print(df.head(3))\n",
    "print(\"---------------------------\")\n",
    "# 刪除欄位\n",
    "df2 = df.drop([\"population\"], axis=1)\n",
    "print(df2.head(3))\n",
    "df2.head(3).to_html(\"ch8-4-2b.html\")"
   ]
  },
  {
   "cell_type": "code",
   "execution_count": 80,
   "id": "d4928c12-f861-4bf2-8c0f-41744b16fe6f",
   "metadata": {},
   "outputs": [
    {
     "name": "stdout",
     "output_type": "stream",
     "text": [
      "           name  population city\n",
      "eleventh    鳳山區      359125  高雄市\n",
      "twelvth     信義區      225561  台北市\n",
      "thirteenth  新店區      302070  新北市\n",
      "---------------------------\n",
      "           name  population city\n",
      "twelvth     信義區      225561  台北市\n",
      "thirteenth  新店區      302070  新北市\n",
      "third-1     士林區      288340  台北市\n",
      "---------------------------\n",
      "   name  population city\n",
      "12  新店區      302070  新北市\n",
      "13  士林區      288340  台北市\n",
      "14  中和區      413291  新北市\n"
     ]
    },
    {
     "name": "stderr",
     "output_type": "stream",
     "text": [
      "C:\\Users\\aaronchh\\AppData\\Local\\Temp\\ipykernel_48808\\3999916450.py:18: FutureWarning: The frame.append method is deprecated and will be removed from pandas in a future version. Use pandas.concat instead.\n",
      "  df2 = df.append(s, ignore_index=True)\n"
     ]
    }
   ],
   "source": [
    "# %load ch8-4-3.py\n",
    "import pandas as pd\n",
    "\n",
    "df = pd.read_csv(\"dists.csv\", encoding=\"utf8\")\n",
    "ordinals = [\"first\", \"second\", \"third\", \"fourth\", \"fifth\",\n",
    "            \"sixth\", \"seventh\", \"eigth\", \"ninth\", \"tenth\",\n",
    "            \"eleventh\", \"twelvth\", \"thirteenth\"]\n",
    "df.index = ordinals\n",
    "\n",
    "print(df.tail(3))\n",
    "print(\"---------------------------\")\n",
    "# 新增記錄\n",
    "df.loc[\"third-1\"] = [\"士林區\", 288340, \"台北市\"]\n",
    "print(df.tail(3))\n",
    "df.tail(3).to_html(\"ch8-4-3-01.html\")\n",
    "print(\"---------------------------\")\n",
    "s = pd.Series({\"city\": \"新北市\", \"name\": \"中和區\", \"population\": 413291})\n",
    "df2 = df.append(s, ignore_index=True)\n",
    "print(df2.tail(3))\n",
    "df2.tail(3).to_html(\"ch8-4-3-02.html\")"
   ]
  },
  {
   "cell_type": "code",
   "execution_count": 81,
   "id": "e187a2f7-0353-4ceb-9491-e4dd505d165b",
   "metadata": {},
   "outputs": [
    {
     "name": "stdout",
     "output_type": "stream",
     "text": [
      "   qty1  qty2  qty3\n",
      "0    -1    -1    -1\n",
      "1    -1    -1     0\n",
      "2    -1     0    -1\n",
      "3    -1    -1     0\n",
      "4    -1    -1    -1\n",
      "---------------------------\n",
      "  qty1 qty2 qty3\n",
      "0    0    0   -1\n",
      "1   -1   -1    0\n",
      "2   -1   -1   -1\n",
      "3   -1    0    0\n",
      "4   -1    0   -1\n"
     ]
    },
    {
     "name": "stderr",
     "output_type": "stream",
     "text": [
      "C:\\Users\\aaronchh\\AppData\\Local\\Temp\\ipykernel_48808\\1623605906.py:15: FutureWarning: The frame.append method is deprecated and will be removed from pandas in a future version. Use pandas.concat instead.\n",
      "  df2 = df2.append(s, ignore_index=True)\n",
      "C:\\Users\\aaronchh\\AppData\\Local\\Temp\\ipykernel_48808\\1623605906.py:15: FutureWarning: The frame.append method is deprecated and will be removed from pandas in a future version. Use pandas.concat instead.\n",
      "  df2 = df2.append(s, ignore_index=True)\n",
      "C:\\Users\\aaronchh\\AppData\\Local\\Temp\\ipykernel_48808\\1623605906.py:15: FutureWarning: The frame.append method is deprecated and will be removed from pandas in a future version. Use pandas.concat instead.\n",
      "  df2 = df2.append(s, ignore_index=True)\n",
      "C:\\Users\\aaronchh\\AppData\\Local\\Temp\\ipykernel_48808\\1623605906.py:15: FutureWarning: The frame.append method is deprecated and will be removed from pandas in a future version. Use pandas.concat instead.\n",
      "  df2 = df2.append(s, ignore_index=True)\n",
      "C:\\Users\\aaronchh\\AppData\\Local\\Temp\\ipykernel_48808\\1623605906.py:15: FutureWarning: The frame.append method is deprecated and will be removed from pandas in a future version. Use pandas.concat instead.\n",
      "  df2 = df2.append(s, ignore_index=True)\n"
     ]
    }
   ],
   "source": [
    "# %load ch8-4-3a.py\n",
    "import pandas as pd\n",
    "from numpy.random import randint\n",
    "\n",
    "df = pd.DataFrame(columns=(\"qty1\", \"qty2\", \"qty3\"))\n",
    "for i in range(5):\n",
    "  df.loc[i] = [randint(-1, 1) for n in range(3)]\n",
    "print(df)\n",
    "df.to_html(\"ch8-4-3a-01.html\")\n",
    "print(\"---------------------------\")\n",
    "df2 = pd.DataFrame(columns=(\"qty1\", \"qty2\", \"qty3\"))\n",
    "for i in range(5):\n",
    "  s = pd.Series(\n",
    "    {\"qty1\": randint(-1, 1), \"qty2\": randint(-1, 1), \"qty3\": randint(-1, 1)})\n",
    "  df2 = df2.append(s, ignore_index=True)\n",
    "print(df2)\n",
    "df.to_html(\"ch8-4-3a-02.html\")"
   ]
  },
  {
   "cell_type": "code",
   "execution_count": 82,
   "id": "e9e5d148-13ca-4f5e-9fd7-b50f1f1c3a7e",
   "metadata": {},
   "outputs": [
    {
     "name": "stdout",
     "output_type": "stream",
     "text": [
      "       name  population city  area\n",
      "first   中正區      159598  台北市  6432\n",
      "second  板橋區      551452  新北市  6177\n",
      "third   桃園區      441287  桃園市  8549\n",
      "fourth  北屯區      275207  台中市  8257\n",
      "fifth   安南區      192327  台南市  7842\n",
      "---------------------------\n",
      "       name  population city  area  zip\n",
      "first   中正區      159598  台北市  6432  106\n",
      "second  板橋區      551452  新北市  6177  119\n",
      "third   桃園區      441287  桃園市  8549  105\n",
      "fourth  北屯區      275207  台中市  8257  115\n",
      "fifth   安南區      192327  台南市  7842  104\n"
     ]
    }
   ],
   "source": [
    "# %load ch8-4-3b.py\n",
    "import pandas as pd\n",
    "from numpy.random import randint\n",
    "\n",
    "df = pd.read_csv(\"dists.csv\", encoding=\"utf8\")\n",
    "ordinals = [\"first\", \"second\", \"third\", \"fourth\", \"fifth\",\n",
    "            \"sixth\", \"seventh\", \"eigth\", \"ninth\", \"tenth\",\n",
    "            \"eleventh\", \"twelvth\", \"thirteenth\"]\n",
    "df.index = ordinals\n",
    "\n",
    "df[\"area\"] = pd.Series([randint(6000, 9000) for n in range(len(df))]).values\n",
    "print(df.head())\n",
    "df.head().to_html(\"ch8-4-3b-01.html\")\n",
    "print(\"---------------------------\")\n",
    "df.loc[:, \"zip\"] = randint(100, 120, size=len(df))\n",
    "print(df.head())\n",
    "df.head().to_html(\"ch8-4-3b-02.html\")"
   ]
  },
  {
   "cell_type": "code",
   "execution_count": 83,
   "id": "8fea2b7e-0f96-462a-bb92-7a219765bfee",
   "metadata": {},
   "outputs": [
    {
     "name": "stdout",
     "output_type": "stream",
     "text": [
      "            city  name  population\n",
      "first        NaN   NaN         NaN\n",
      "second       NaN   NaN         NaN\n",
      "third        NaN   NaN         NaN\n",
      "fourth       NaN   NaN         NaN\n",
      "fifth        NaN   NaN         NaN\n",
      "sixth        NaN   NaN         NaN\n",
      "seventh      NaN   NaN         NaN\n",
      "eigth        NaN   NaN         NaN\n",
      "ninth        NaN   NaN         NaN\n",
      "tenth        NaN   NaN         NaN\n",
      "eleventh     NaN   NaN         NaN\n",
      "twelvth      NaN   NaN         NaN\n",
      "thirteenth   NaN   NaN         NaN\n",
      "---------------------------\n",
      "           name  population city\n",
      "first       中正區      159598  台北市\n",
      "second      板橋區      551452  新北市\n",
      "third       桃園區      441287  桃園市\n",
      "fourth      北屯區      275207  台中市\n",
      "fifth       安南區      192327  台南市\n",
      "sixth       三民區      343203  高雄市\n",
      "seventh     大安區      309835  台北市\n",
      "eigth       永和區      222531  新北市\n",
      "ninth       八德區      198473  桃園市\n",
      "tenth       前鎮區      189623  高雄市\n",
      "eleventh    鳳山區      359125  高雄市\n",
      "twelvth     信義區      225561  台北市\n",
      "thirteenth  新店區      302070  新北市\n"
     ]
    }
   ],
   "source": [
    "# %load ch8-4-4.py\n",
    "import pandas as pd\n",
    "import numpy as np\n",
    "\n",
    "df = pd.read_csv(\"dists.csv\", encoding=\"utf8\")\n",
    "ordinals = [\"first\", \"second\", \"third\", \"fourth\", \"fifth\",\n",
    "            \"sixth\", \"seventh\", \"eigth\", \"ninth\", \"tenth\",\n",
    "            \"eleventh\", \"twelvth\", \"thirteenth\"]\n",
    "df.index = ordinals\n",
    "\n",
    "columns = [\"city\", \"name\", \"population\"]\n",
    "# 建立空的DataFrame物件\n",
    "df_empty = pd.DataFrame(np.nan, index=ordinals, columns=columns)\n",
    "print(df_empty)\n",
    "print(\"---------------------------\")\n",
    "# 複製DataFrame物件\n",
    "df_copy = df.copy()\n",
    "print(df_copy)"
   ]
  },
  {
   "cell_type": "code",
   "execution_count": 84,
   "id": "0ed303ad-45cc-4c77-a128-ccde85cf5667",
   "metadata": {},
   "outputs": [
    {
     "name": "stdout",
     "output_type": "stream",
     "text": [
      "   a  b  c  d\n",
      "0  8  5  7  6\n",
      "1  5  9  7  7\n",
      "2  7  7  8  7\n",
      "---------------------------\n",
      "   b  d  a\n",
      "0  9  8  5\n",
      "1  6  9  8\n",
      "---------------------------\n",
      "   a  b    c  d\n",
      "0  8  5  7.0  6\n",
      "1  5  9  7.0  7\n",
      "2  7  7  8.0  7\n",
      "0  5  9  NaN  8\n",
      "1  8  6  NaN  9\n",
      "---------------------------\n",
      "   a  b    c  d\n",
      "0  8  5  7.0  6\n",
      "1  5  9  7.0  7\n",
      "2  7  7  8.0  7\n",
      "3  5  9  NaN  8\n",
      "4  8  6  NaN  9\n"
     ]
    }
   ],
   "source": [
    "# %load ch8-4-4a.py\n",
    "import pandas as pd\n",
    "from numpy.random import randint\n",
    "\n",
    "df1 = pd.DataFrame(randint(5, 10, size=(3, 4)), columns=[\"a\", \"b\", \"c\", \"d\"])\n",
    "df2 = pd.DataFrame(randint(5, 10, size=(2, 3)), columns=[\"b\", \"d\", \"a\"])\n",
    "print(df1)\n",
    "df1.to_html(\"ch8-4-4a-01.html\")\n",
    "print(\"---------------------------\")\n",
    "print(df2)\n",
    "df2.to_html(\"ch8-4-4a-02.html\")\n",
    "print(\"---------------------------\")\n",
    "df3 = pd.concat([df1, df2])\n",
    "print(df3)\n",
    "df3.to_html(\"ch8-4-4a-03.html\")\n",
    "print(\"---------------------------\")\n",
    "df4 = pd.concat([df1, df2], ignore_index=True)\n",
    "print(df4)\n",
    "df4.to_html(\"ch8-4-4a-04.html\")"
   ]
  },
  {
   "cell_type": "code",
   "execution_count": 85,
   "id": "60eec1cf-fc94-4f12-995a-0a9c5d731c9b",
   "metadata": {},
   "outputs": [
    {
     "name": "stdout",
     "output_type": "stream",
     "text": [
      "  key  data1\n",
      "0   a      0\n",
      "1   b      1\n",
      "2   b      2\n",
      "---------------------------\n",
      "  key  data2\n",
      "0   a      0\n",
      "1   b      1\n",
      "2   c      2\n",
      "---------------------------\n",
      "  key  data1  data2\n",
      "0   a      0      0\n",
      "1   b      1      1\n",
      "2   b      2      1\n",
      "---------------------------\n",
      "  key  data2  data1\n",
      "0   a      0      0\n",
      "1   b      1      1\n",
      "2   b      1      2\n",
      "---------------------------\n",
      "  key  data2  data1\n",
      "0   a      0    0.0\n",
      "1   b      1    1.0\n",
      "2   b      1    2.0\n",
      "3   c      2    NaN\n"
     ]
    }
   ],
   "source": [
    "# %load ch8-4-4b.py\n",
    "import pandas as pd\n",
    "\n",
    "df1 = pd.DataFrame({\"key\": [\"a\", \"b\", \"b\"], \"data1\": range(3)})\n",
    "df2 = pd.DataFrame({\"key\": [\"a\", \"b\", \"c\"], \"data2\": range(3)})\n",
    "print(df1)\n",
    "df1.to_html(\"ch8-4-4b-01.html\")\n",
    "print(\"---------------------------\")\n",
    "print(df2)\n",
    "df2.to_html(\"ch8-4-4b-02.html\")\n",
    "print(\"---------------------------\")\n",
    "df3 = pd.merge(df1, df2)\n",
    "print(df3)\n",
    "df3.to_html(\"ch8-4-4b-03.html\")\n",
    "print(\"---------------------------\")\n",
    "df4 = pd.merge(df2, df1)\n",
    "print(df4)\n",
    "df4.to_html(\"ch8-4-4b-04.html\")\n",
    "print(\"---------------------------\")\n",
    "df5 = pd.merge(df2, df1, how='left')\n",
    "print(df5)\n",
    "df5.to_html(\"ch8-4-4b-05.html\")"
   ]
  },
  {
   "cell_type": "code",
   "execution_count": 86,
   "id": "05e4ddff-9044-4354-b29f-e8b8c3109804",
   "metadata": {},
   "outputs": [
    {
     "name": "stdout",
     "output_type": "stream",
     "text": [
      "    名稱   編號  數量   售價\n",
      "0  客戶A  訂單1   2  428\n",
      "1  客戶B  訂單1   4  254\n",
      "2  客戶A  訂單2   4  189\n",
      "3  客戶B  訂單3   4  255\n",
      "4  客戶A  訂單2   4  459\n",
      "5  客戶B  訂單2   1  207\n",
      "6  客戶A  訂單1   4  349\n",
      "7  客戶A  訂單3   3  234\n",
      "---------------------------\n",
      "     數量    售價\n",
      "名稱           \n",
      "客戶A  17  1659\n",
      "客戶B   9   716\n",
      "---------------------------\n",
      "         數量   售價\n",
      "名稱  編號          \n",
      "客戶A 訂單1   6  777\n",
      "    訂單2   8  648\n",
      "    訂單3   3  234\n",
      "客戶B 訂單1   4  254\n",
      "    訂單2   1  207\n",
      "    訂單3   4  255\n"
     ]
    },
    {
     "name": "stderr",
     "output_type": "stream",
     "text": [
      "C:\\Users\\aaronchh\\AppData\\Local\\Temp\\ipykernel_48808\\617667607.py:15: FutureWarning: The default value of numeric_only in DataFrameGroupBy.sum is deprecated. In a future version, numeric_only will default to False. Either specify numeric_only or select only columns which should be valid for the function.\n",
      "  print(df.groupby(\"名稱\").sum())\n",
      "C:\\Users\\aaronchh\\AppData\\Local\\Temp\\ipykernel_48808\\617667607.py:16: FutureWarning: The default value of numeric_only in DataFrameGroupBy.sum is deprecated. In a future version, numeric_only will default to False. Either specify numeric_only or select only columns which should be valid for the function.\n",
      "  df.groupby(\"名稱\").sum().to_html(\"ch8-5-1-02.html\")\n"
     ]
    }
   ],
   "source": [
    "# %load ch8-5-1.py\n",
    "import pandas as pd\n",
    "import numpy as np\n",
    "\n",
    "df = pd.DataFrame({\"名稱\": [\"客戶A\", \"客戶B\", \"客戶A\", \"客戶B\",\n",
    "                          \"客戶A\", \"客戶B\", \"客戶A\", \"客戶A\"],\n",
    "                   \"編號\": [\"訂單1\", \"訂單1\", \"訂單2\", \"訂單3\",\n",
    "                          \"訂單2\", \"訂單2\", \"訂單1\", \"訂單3\"],\n",
    "                   \"數量\": np.random.randint(1, 5, size=8),\n",
    "                   \"售價\": np.random.randint(150, 500, size=8)})\n",
    "\n",
    "print(df)\n",
    "df.to_html(\"ch8-5-1-01.html\")\n",
    "print(\"---------------------------\")\n",
    "print(df.groupby(\"名稱\").sum())\n",
    "df.groupby(\"名稱\").sum().to_html(\"ch8-5-1-02.html\")\n",
    "print(\"---------------------------\")\n",
    "print(df.groupby([\"名稱\", \"編號\"]).sum())\n",
    "df.groupby([\"名稱\", \"編號\"]).sum().to_html(\"ch8-5-1-03.html\")"
   ]
  },
  {
   "cell_type": "code",
   "execution_count": 87,
   "id": "533eedfa-19cf-4ee9-a951-bb1ea41d1c32",
   "metadata": {},
   "outputs": [
    {
     "name": "stdout",
     "output_type": "stream",
     "text": [
      "   分類   商店      價格  測試分數\n",
      "0  居家  家樂福   11.42     4\n",
      "1  居家   頂好   23.50     3\n",
      "2  娛樂  家樂福   19.99     5\n",
      "3  娛樂   全聯   15.95     7\n",
      "4  科技   頂好   55.75     5\n",
      "5  科技  家樂福  111.55     8\n",
      "---------------------------\n",
      "商店     全聯     家樂福     頂好\n",
      "分類                      \n",
      "娛樂  15.95   19.99    NaN\n",
      "居家    NaN   11.42  23.50\n",
      "科技    NaN  111.55  55.75\n"
     ]
    }
   ],
   "source": [
    "# %load ch8-5-2.py\n",
    "import pandas as pd\n",
    "\n",
    "products = pd.DataFrame({\n",
    "  \"分類\": [\"居家\", \"居家\", \"娛樂\", \"娛樂\", \"科技\", \"科技\"],\n",
    "  \"商店\": [\"家樂福\", \"頂好\", \"家樂福\", \"全聯\", \"頂好\", \"家樂福\"],\n",
    "  \"價格\": [11.42, 23.50, 19.99, 15.95, 55.75, 111.55],\n",
    "  \"測試分數\": [4, 3, 5, 7, 5, 8]})\n",
    "print(products)\n",
    "products.to_html(\"ch8-5-2-01.html\")\n",
    "print(\"---------------------------\")\n",
    "# 呼叫 pivot_table() 方法\n",
    "pivot_products = products.pivot_table(index='分類', columns='商店', values='價格')\n",
    "print(pivot_products)\n",
    "pivot_products.to_html(\"ch8-5-2-02.html\")"
   ]
  },
  {
   "cell_type": "code",
   "execution_count": 88,
   "id": "611e6131-b00c-42bf-9ad7-b10bc553edd0",
   "metadata": {},
   "outputs": [
    {
     "name": "stdout",
     "output_type": "stream",
     "text": [
      "          A         B         C         D\n",
      "0  0.217092  0.456968  0.153398  0.429200\n",
      "1  0.705898  0.049205  0.928330  0.671676\n",
      "2  0.984591  0.959487  0.398876  0.872731\n",
      "3  0.601178  0.503702  0.753262  0.463453\n",
      "4  0.678540  0.370371  0.830286  0.853418\n",
      "5  0.934457  0.887797  0.288792  0.129348\n",
      "---------------------------\n",
      "          A         B         C         D\n",
      "0  0.217092  0.456968  0.153398  0.429200\n",
      "1  0.922990  0.506173  1.081728  1.100876\n",
      "2  1.907581  1.465660  1.480604  1.973607\n",
      "3  2.508759  1.969362  2.233866  2.437060\n",
      "4  3.187299  2.339733  3.064152  3.290478\n",
      "5  4.121756  3.227530  3.352944  3.419825\n",
      "---------------------------\n",
      "A    0.767499\n",
      "B    0.910282\n",
      "C    0.774931\n",
      "D    0.743384\n",
      "dtype: float64\n"
     ]
    }
   ],
   "source": [
    "# %load ch8-5-3.py\n",
    "import pandas as pd\n",
    "import numpy as np\n",
    "\n",
    "df = pd.DataFrame(np.random.rand(6, 4), columns=list(\"ABCD\"))\n",
    "print(df)\n",
    "df.to_html(\"ch8-5-3-01.html\")\n",
    "print(\"---------------------------\")\n",
    "df2 = df.apply(np.cumsum)\n",
    "print(df2)\n",
    "df2.to_html(\"ch8-5-3-02.html\")\n",
    "print(\"---------------------------\")\n",
    "df3 = df.apply(lambda x: x.max() - x.min())\n",
    "print(df3)"
   ]
  },
  {
   "cell_type": "code",
   "execution_count": null,
   "id": "03db0a29-677f-47e0-ad1e-7ef2cc94ce44",
   "metadata": {},
   "outputs": [],
   "source": []
  }
 ],
 "metadata": {
  "kernelspec": {
   "display_name": "Python 3 (ipykernel)",
   "language": "python",
   "name": "python3"
  },
  "language_info": {
   "codemirror_mode": {
    "name": "ipython",
    "version": 3
   },
   "file_extension": ".py",
   "mimetype": "text/x-python",
   "name": "python",
   "nbconvert_exporter": "python",
   "pygments_lexer": "ipython3",
   "version": "3.8.13"
  }
 },
 "nbformat": 4,
 "nbformat_minor": 5
}
